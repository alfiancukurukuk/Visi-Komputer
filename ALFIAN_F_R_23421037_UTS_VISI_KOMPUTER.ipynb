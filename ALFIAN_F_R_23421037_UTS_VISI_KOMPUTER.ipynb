{
  "nbformat": 4,
  "nbformat_minor": 0,
  "metadata": {
    "colab": {
      "provenance": []
    },
    "kernelspec": {
      "name": "python3",
      "display_name": "Python 3"
    },
    "language_info": {
      "name": "python"
    }
  },
  "cells": [
    {
      "cell_type": "code",
      "execution_count": 1,
      "metadata": {
        "colab": {
          "base_uri": "https://localhost:8080/",
          "height": 211
        },
        "id": "jn-xqP8o1use",
        "outputId": "9455c4c4-1bdc-4112-92f6-9c8de7d3cae6"
      },
      "outputs": [
        {
          "output_type": "error",
          "ename": "NameError",
          "evalue": "name 'cv2' is not defined",
          "traceback": [
            "\u001b[0;31m---------------------------------------------------------------------------\u001b[0m",
            "\u001b[0;31mNameError\u001b[0m                                 Traceback (most recent call last)",
            "\u001b[0;32m<ipython-input-1-401724c22336>\u001b[0m in \u001b[0;36m<cell line: 2>\u001b[0;34m()\u001b[0m\n\u001b[1;32m      1\u001b[0m \u001b[0;31m# algoritma menggunakan metode Global Thresholding\u001b[0m\u001b[0;34m\u001b[0m\u001b[0;34m\u001b[0m\u001b[0m\n\u001b[0;32m----> 2\u001b[0;31m \u001b[0mimg\u001b[0m \u001b[0;34m=\u001b[0m \u001b[0mcv2\u001b[0m\u001b[0;34m.\u001b[0m\u001b[0mimread\u001b[0m\u001b[0;34m(\u001b[0m\u001b[0;34m'buah.jpg'\u001b[0m\u001b[0;34m,\u001b[0m\u001b[0;36m0\u001b[0m\u001b[0;34m)\u001b[0m\u001b[0;34m\u001b[0m\u001b[0;34m\u001b[0m\u001b[0m\n\u001b[0m\u001b[1;32m      3\u001b[0m \u001b[0;34m\u001b[0m\u001b[0m\n\u001b[1;32m      4\u001b[0m \u001b[0;31m# Hitungan threshold.\u001b[0m\u001b[0;34m\u001b[0m\u001b[0;34m\u001b[0m\u001b[0m\n\u001b[1;32m      5\u001b[0m \u001b[0;31m# Perhatikan nilai ambang batas bawah dan atas dari tiap fungsi\u001b[0m\u001b[0;34m\u001b[0m\u001b[0;34m\u001b[0m\u001b[0m\n",
            "\u001b[0;31mNameError\u001b[0m: name 'cv2' is not defined"
          ]
        }
      ],
      "source": [
        "# algoritma menggunakan metode Global Thresholding\n",
        "img = cv2.imread('buah.jpg',0)\n",
        "\n",
        "# Hitungan threshold.\n",
        "# Perhatikan nilai ambang batas bawah dan atas dari tiap fungsi\n",
        "# yang diberikan\n",
        "ret,thresh1 = cv2.threshold(img,50,370,cv2.THRESH_BINARY)\n",
        "ret,thresh2 = cv2.threshold(img,50,370,cv2.THRESH_BINARY_INV)\n",
        "ret,thresh3 = cv2.threshold(img,50,370,cv2.THRESH_TRUNC)\n",
        "ret,thresh4 = cv2.threshold(img,50,370,cv2.THRESH_TOZERO)\n",
        "ret,thresh5 = cv2.threshold(img,50,370,cv2.THRESH_TOZERO_INV)\n",
        "\n",
        "# menampilkan hasil\n",
        "titles = ['Gambar asli','BINARY','BINARY_INV','TRUNC','TOZERO','TOZERO_INV']\n",
        "images = [img, thresh1, thresh2, thresh3, thresh4, thresh5]\n",
        "\n",
        "# menampilkan beberapa gambar sekaligus\n",
        "for i in range(6):\n",
        "    # 3 baris, 2 kolom\n",
        "    plt.subplot(3,2,i+1),plt.imshow(images[i],'gray')\n",
        "    plt.title(titles[i])\n",
        "    plt.xticks([]),plt.yticks([])\n",
        "plt.show()"
      ]
    }
  ]
}